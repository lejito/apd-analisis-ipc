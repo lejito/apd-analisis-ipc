{
 "cells": [
  {
   "cell_type": "markdown",
   "metadata": {},
   "source": [
    "# Análisis Predictivo de Datos\n",
    "## Proyecto de aula: Análisis del IPC en Colombia\n",
    "\n",
    "\n",
    "### Integrantes\n",
    "\n",
    "- Alejandro Córdoba Ríos\n",
    "- Juan Camilo Manjarrés Baena\n",
    "- Adrián David Perdomo Echeverri\n",
    "\n",
    "\n",
    "### Descripción\n",
    "\n",
    "Este proyecto de aula busca hacer un análisis histórico de los datos proporcionados por el **Departamento Administrativo Nacional de Estadísticas (DANE)** con respecto al **Índice de Precios al Consumidor (IPC)** en los últimos 24 meses, desde septiembre de 2022 hasta agosto de 2024, con el fin de predecir la variación de este indicador económico en el futuro. Se obtienen datos de la variación mensual del IPC total, por divisiones de bienes y servicios y categorizados por ciudades.\n",
    "\n",
    "Las divisiones de bienes y servicios que identifica el DANE son:\n",
    "- Alimentos y bebidas no alcohólicas\n",
    "- Bebidas alcohólicas y tabaco\n",
    "- Prendas de vestir y calzado\n",
    "- Alojamiento, agua, electricidad, gas y otros combustibles\n",
    "- Muebles, artículos para el hogar y para la conservación ordinaria del hogar\n",
    "- Salud\n",
    "- Transporte\n",
    "- Información y comunicación\n",
    "- Recreación y cultura\n",
    "- Educación\n",
    "- Restaurantes y hoteles\n",
    "- Bienes y servicios diversos\n",
    "\n",
    "Y las ciudades listadas son:\n",
    "- Medellín\n",
    "- Barranquilla\n",
    "- Bogotá, D.C.\n",
    "- Cartagena De Indias\n",
    "- Tunja\n",
    "- Manizales\n",
    "- Florencia\n",
    "- Popayán\n",
    "- Valledupar\n",
    "- Montería\n",
    "- Neiva\n",
    "- Riohacha\n",
    "- Santa Marta\n",
    "- Villavicencio\n",
    "- Pasto\n",
    "- Cúcuta\n",
    "- Armenia\n",
    "- Pereira\n",
    "- Bucaramanga\n",
    "- Sincelejo\n",
    "- Ibagué\n",
    "- Cali\n",
    "- Otras Areas Urbanas\n",
    "\n",
    "Los datos se obtienen del sitio oficial del DANE: https://www.dane.gov.co/index.php/comunicados-y-boletines/indice-de-precios-y-costos/ipc"
   ]
  },
  {
   "cell_type": "markdown",
   "metadata": {},
   "source": [
    "### Recolección de los datos\n",
    "\n",
    "Se obtienen los anexos de los reportes históricos mensuales que se encuentran en el enlace citado anteriormente, los cuales son documentos con formato *.xlsx*. Estos archivos de Excel contienen varias hojas con información ordenada y categorizada de distintas maneras, pero para el objetivo del proyecto de aula, nos concentraremos en los datos de la **hoja \"4\"**, que corresponde a **\"Variación mensual, total y por divisiones de bienes y servicios, según ciudades\"**.\n",
    "\n",
    "Como son en total 24 archivos (un archivo por cada mes, desde septiembre de 2022 hasta agosto de 2024) y lo ideal es tener todos los datos en un solo archivo, vamos a iterar cada archivo para obtener su información e irla recolectando y ordenando en un archivo final con formato *.csv*. Se renombraron los archivos para seguir una convención específica, que nos servirá para que en la iteración se identifique a qué mes y año corresponde la información. Esta convención es *año-mes.xlsx*, donde año es el número con 4 dígitos y mes es el número con 2 dígitos (por ejemplo: *2023-07.xlsx*, que corresponde a julio del 2023).\n",
    "\n",
    "Al final esperamos tener un único archivo con formato *.csv* donde cada fila contenga la siguiente información:\n",
    "- Ciudad [texto]\n",
    "- Categoría (división de bienes y servicios) [texto]\n",
    "- Año [número]\n",
    "- Mes [número]\n",
    "- IPC [número]"
   ]
  },
  {
   "cell_type": "code",
   "execution_count": 5,
   "metadata": {},
   "outputs": [
    {
     "name": "stdout",
     "output_type": "stream",
     "text": [
      "Requirement already satisfied: pandas in c:\\python311\\lib\\site-packages (2.0.3)\n",
      "Requirement already satisfied: python-dateutil>=2.8.2 in c:\\python311\\lib\\site-packages (from pandas) (2.8.2)\n",
      "Requirement already satisfied: pytz>=2020.1 in c:\\python311\\lib\\site-packages (from pandas) (2022.7.1)\n",
      "Requirement already satisfied: tzdata>=2022.1 in c:\\python311\\lib\\site-packages (from pandas) (2023.3)\n",
      "Requirement already satisfied: numpy>=1.21.0 in c:\\python311\\lib\\site-packages (from pandas) (1.24.2)\n",
      "Requirement already satisfied: six>=1.5 in c:\\python311\\lib\\site-packages (from python-dateutil>=2.8.2->pandas) (1.16.0)\n",
      "Note: you may need to restart the kernel to use updated packages.\n"
     ]
    },
    {
     "name": "stderr",
     "output_type": "stream",
     "text": [
      "DEPRECATION: Loading egg at c:\\python311\\lib\\site-packages\\vboxapi-1.0-py3.11.egg is deprecated. pip 24.3 will enforce this behaviour change. A possible replacement is to use pip for package installation.. Discussion can be found at https://github.com/pypa/pip/issues/12330\n",
      "\n",
      "[notice] A new release of pip is available: 24.0 -> 24.2\n",
      "[notice] To update, run: python.exe -m pip install --upgrade pip\n"
     ]
    },
    {
     "name": "stdout",
     "output_type": "stream",
     "text": [
      "Collecting openpyxl\n",
      "  Downloading openpyxl-3.1.5-py2.py3-none-any.whl.metadata (2.5 kB)\n",
      "Collecting et-xmlfile (from openpyxl)\n",
      "  Downloading et_xmlfile-1.1.0-py3-none-any.whl.metadata (1.8 kB)\n",
      "Downloading openpyxl-3.1.5-py2.py3-none-any.whl (250 kB)\n",
      "   ---------------------------------------- 0.0/250.9 kB ? eta -:--:--\n",
      "   ------------- -------------------------- 81.9/250.9 kB 2.3 MB/s eta 0:00:01\n",
      "   -------------------------------- ------- 204.8/250.9 kB 2.5 MB/s eta 0:00:01\n",
      "   ---------------------------------------- 250.9/250.9 kB 2.2 MB/s eta 0:00:00\n",
      "Downloading et_xmlfile-1.1.0-py3-none-any.whl (4.7 kB)\n",
      "Installing collected packages: et-xmlfile, openpyxl\n",
      "Successfully installed et-xmlfile-1.1.0 openpyxl-3.1.5\n",
      "Note: you may need to restart the kernel to use updated packages.\n"
     ]
    },
    {
     "name": "stderr",
     "output_type": "stream",
     "text": [
      "DEPRECATION: Loading egg at c:\\python311\\lib\\site-packages\\vboxapi-1.0-py3.11.egg is deprecated. pip 24.3 will enforce this behaviour change. A possible replacement is to use pip for package installation.. Discussion can be found at https://github.com/pypa/pip/issues/12330\n",
      "\n",
      "[notice] A new release of pip is available: 24.0 -> 24.2\n",
      "[notice] To update, run: python.exe -m pip install --upgrade pip\n"
     ]
    }
   ],
   "source": [
    "%pip install pandas\n",
    "%pip install openpyxl"
   ]
  },
  {
   "cell_type": "code",
   "execution_count": 6,
   "metadata": {},
   "outputs": [],
   "source": [
    "import os\n",
    "import pandas as pd\n",
    "\n",
    "data_folder = 'data'\n",
    "final_data = []\n",
    "for filename in os.listdir(data_folder):\n",
    "    slug, _ = os.path.splitext(filename)\n",
    "    year, month = slug.split('-')\n",
    "    \n",
    "    data = pd.read_excel(os.path.join(data_folder, filename), sheet_name='4', header=6, usecols='A:N', nrows=24, skiprows=[7])\n",
    "\n",
    "    melted_data = data.melt(id_vars=['Ciudades'], var_name='Categoría', value_name='IPC')\n",
    "    melted_data['Ciudades'] = melted_data['Ciudades'].astype(str)\n",
    "    melted_data['Categoría'] = melted_data['Categoría'].astype(str)\n",
    "    melted_data['Año'] = int(year)\n",
    "    melted_data['Mes'] = int(month)\n",
    "    melted_data['IPC'] = melted_data['IPC'].astype(float)\n",
    "    melted_data.rename(columns={'Ciudades': 'city', 'Categoría': 'category', 'Año': 'year', 'Mes': 'month', 'IPC': 'ipc'}, inplace=True)\n",
    "    \n",
    "    final_data.append(melted_data)\n",
    "\n",
    "final_df = pd.concat(final_data, ignore_index=True)\n",
    "final_df.to_csv('ipc_from_2022-09_to_2024-08.csv', index=False)\n"
   ]
  }
 ],
 "metadata": {
  "kernelspec": {
   "display_name": "Python 3",
   "language": "python",
   "name": "python3"
  },
  "language_info": {
   "codemirror_mode": {
    "name": "ipython",
    "version": 3
   },
   "file_extension": ".py",
   "mimetype": "text/x-python",
   "name": "python",
   "nbconvert_exporter": "python",
   "pygments_lexer": "ipython3",
   "version": "3.11.4"
  }
 },
 "nbformat": 4,
 "nbformat_minor": 2
}
